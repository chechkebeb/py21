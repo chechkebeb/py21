{
 "cells": [
  {
   "cell_type": "code",
   "execution_count": 28,
   "id": "6a51773b",
   "metadata": {},
   "outputs": [],
   "source": [
    "from pymorphy2 import MorphAnalyzer\n",
    "morph = MorphAnalyzer()\n",
    "\n",
    "from string import punctuation\n",
    "\n",
    "import pandas as pd"
   ]
  },
  {
   "cell_type": "markdown",
   "id": "497c86b8",
   "metadata": {},
   "source": [
    "Превращаем текст в список из слов, очищаем его от знаков пунктуации и пустых элементов:"
   ]
  },
  {
   "cell_type": "code",
   "execution_count": 29,
   "id": "67bb5d18",
   "metadata": {},
   "outputs": [],
   "source": [
    "text = \"\"\"\n",
    "Моим стихам, написанным так рано,\n",
    "Что и не знала я, что я - поэт,\n",
    "Сорвавшимся, как брызги из фонтана,\n",
    "Как искры из ракет,\n",
    "\n",
    "Ворвавшимся, как маленькие черти,\n",
    "В святилище, где сон и фимиам,\n",
    "Моим стихам о юности и смерти,\n",
    "- Нечитанным стихам!\n",
    "\n",
    "Разбросанным в пыли по магазинам,\n",
    "Где их никто не брал и не берет,\n",
    "Моим стихам, как драгоценным винам,\n",
    "Настанет свой черед.\n",
    "\"\"\"\n",
    "text = [word.lower().strip(punctuation) for word in text.split()]\n",
    "text = [word for word in text if word != '']"
   ]
  },
  {
   "cell_type": "markdown",
   "id": "eeac6706",
   "metadata": {},
   "source": [
    "Лемматизируем и собираем в отдельный список:"
   ]
  },
  {
   "cell_type": "code",
   "execution_count": 30,
   "id": "ddd28fa8",
   "metadata": {},
   "outputs": [],
   "source": [
    "lemmas = []\n",
    "\n",
    "for word in text:\n",
    "    lemmas.append(morph.parse(word)[0].normal_form)"
   ]
  },
  {
   "cell_type": "markdown",
   "id": "328fee45",
   "metadata": {},
   "source": [
    "Соединяем эти списки в один список, состоящий из пар словоформ, и строим таблицу:"
   ]
  },
  {
   "cell_type": "code",
   "execution_count": 31,
   "id": "ade8ef3f",
   "metadata": {},
   "outputs": [
    {
     "data": {
      "text/html": [
       "<div>\n",
       "<style scoped>\n",
       "    .dataframe tbody tr th:only-of-type {\n",
       "        vertical-align: middle;\n",
       "    }\n",
       "\n",
       "    .dataframe tbody tr th {\n",
       "        vertical-align: top;\n",
       "    }\n",
       "\n",
       "    .dataframe thead th {\n",
       "        text-align: right;\n",
       "    }\n",
       "</style>\n",
       "<table border=\"1\" class=\"dataframe\">\n",
       "  <thead>\n",
       "    <tr style=\"text-align: right;\">\n",
       "      <th></th>\n",
       "      <th>word</th>\n",
       "      <th>normal form</th>\n",
       "    </tr>\n",
       "  </thead>\n",
       "  <tbody>\n",
       "    <tr>\n",
       "      <th>0</th>\n",
       "      <td>моим</td>\n",
       "      <td>мой</td>\n",
       "    </tr>\n",
       "    <tr>\n",
       "      <th>1</th>\n",
       "      <td>стихам</td>\n",
       "      <td>стих</td>\n",
       "    </tr>\n",
       "    <tr>\n",
       "      <th>2</th>\n",
       "      <td>написанным</td>\n",
       "      <td>написать</td>\n",
       "    </tr>\n",
       "    <tr>\n",
       "      <th>3</th>\n",
       "      <td>так</td>\n",
       "      <td>так</td>\n",
       "    </tr>\n",
       "    <tr>\n",
       "      <th>4</th>\n",
       "      <td>рано</td>\n",
       "      <td>рано</td>\n",
       "    </tr>\n",
       "    <tr>\n",
       "      <th>...</th>\n",
       "      <td>...</td>\n",
       "      <td>...</td>\n",
       "    </tr>\n",
       "    <tr>\n",
       "      <th>56</th>\n",
       "      <td>драгоценным</td>\n",
       "      <td>драгоценный</td>\n",
       "    </tr>\n",
       "    <tr>\n",
       "      <th>57</th>\n",
       "      <td>винам</td>\n",
       "      <td>вино</td>\n",
       "    </tr>\n",
       "    <tr>\n",
       "      <th>58</th>\n",
       "      <td>настанет</td>\n",
       "      <td>настать</td>\n",
       "    </tr>\n",
       "    <tr>\n",
       "      <th>59</th>\n",
       "      <td>свой</td>\n",
       "      <td>свой</td>\n",
       "    </tr>\n",
       "    <tr>\n",
       "      <th>60</th>\n",
       "      <td>черед</td>\n",
       "      <td>черёд</td>\n",
       "    </tr>\n",
       "  </tbody>\n",
       "</table>\n",
       "<p>61 rows × 2 columns</p>\n",
       "</div>"
      ],
      "text/plain": [
       "           word  normal form\n",
       "0          моим          мой\n",
       "1        стихам         стих\n",
       "2    написанным     написать\n",
       "3           так          так\n",
       "4          рано         рано\n",
       "..          ...          ...\n",
       "56  драгоценным  драгоценный\n",
       "57        винам         вино\n",
       "58     настанет      настать\n",
       "59         свой         свой\n",
       "60        черед        черёд\n",
       "\n",
       "[61 rows x 2 columns]"
      ]
     },
     "execution_count": 31,
     "metadata": {},
     "output_type": "execute_result"
    }
   ],
   "source": [
    "data = list(zip(text, lemmas))\n",
    "\n",
    "df = pd.DataFrame(data, columns=[\"word\", \"normal form\"])\n",
    "df"
   ]
  }
 ],
 "metadata": {
  "kernelspec": {
   "display_name": "Python 3",
   "language": "python",
   "name": "python3"
  },
  "language_info": {
   "codemirror_mode": {
    "name": "ipython",
    "version": 3
   },
   "file_extension": ".py",
   "mimetype": "text/x-python",
   "name": "python",
   "nbconvert_exporter": "python",
   "pygments_lexer": "ipython3",
   "version": "3.8.8"
  }
 },
 "nbformat": 4,
 "nbformat_minor": 5
}
